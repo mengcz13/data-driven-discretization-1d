{
 "cells": [
  {
   "cell_type": "code",
   "execution_count": 1,
   "metadata": {},
   "outputs": [],
   "source": [
    "import xarray"
   ]
  },
  {
   "cell_type": "code",
   "execution_count": 2,
   "metadata": {},
   "outputs": [
    {
     "data": {
      "text/html": [
       "<pre>&lt;xarray.Dataset&gt;\n",
       "Dimensions:    (sample: 100, time: 1001, x: 512)\n",
       "Coordinates:\n",
       "  * time       (time) float64 10.0 10.1 10.2 10.3 ... 109.7 109.8 109.9 110.0\n",
       "  * x          (x) float64 0.0 0.01227 0.02454 0.03682 ... 6.246 6.259 6.271\n",
       "    num_evals  (sample) int32 ...\n",
       "  * sample     (sample) int32 0 1 2 3 4 5 6 7 8 9 ... 91 92 93 94 95 96 97 98 99\n",
       "Data variables:\n",
       "    y          (sample, time, x) float64 ...</pre>"
      ],
      "text/plain": [
       "<xarray.Dataset>\n",
       "Dimensions:    (sample: 100, time: 1001, x: 512)\n",
       "Coordinates:\n",
       "  * time       (time) float64 10.0 10.1 10.2 10.3 ... 109.7 109.8 109.9 110.0\n",
       "  * x          (x) float64 0.0 0.01227 0.02454 0.03682 ... 6.246 6.259 6.271\n",
       "    num_evals  (sample) int32 ...\n",
       "  * sample     (sample) int32 0 1 2 3 4 5 6 7 8 9 ... 91 92 93 94 95 96 97 98 99\n",
       "Data variables:\n",
       "    y          (sample, time, x) float64 ..."
      ]
     },
     "execution_count": 2,
     "metadata": {},
     "output_type": "execute_result"
    }
   ],
   "source": [
    "reference = xarray.open_dataset('../data/burgers_weno.nc')\n",
    "reference"
   ]
  },
  {
   "cell_type": "code",
   "execution_count": 11,
   "metadata": {},
   "outputs": [
    {
     "name": "stdout",
     "output_type": "stream",
     "text": [
      "<HDF5 dataset \"v\": shape (10000, 512), type \"<f8\">\n",
      "<KeysViewHDF5 ['v']> (10000, 512) {'eta': 0.01, 'k_max': 6, 'k_min': 3, 'num_points': 512}\n"
     ]
    }
   ],
   "source": [
    "from pde_superresolution import utils\n",
    "\n",
    "with utils.read_h5py('../data/burgers.h5') as f:\n",
    "    print(f['v'])\n",
    "    snapshots = f['v'][...]\n",
    "    equation_kwargs = {k: v.item() for k, v in f.attrs.items()}\n",
    "    print(f.keys(), snapshots.shape, equation_kwargs)"
   ]
  }
 ],
 "metadata": {
  "kernelspec": {
   "display_name": "Python 3",
   "language": "python",
   "name": "python3"
  },
  "language_info": {
   "codemirror_mode": {
    "name": "ipython",
    "version": 3
   },
   "file_extension": ".py",
   "mimetype": "text/x-python",
   "name": "python",
   "nbconvert_exporter": "python",
   "pygments_lexer": "ipython3",
   "version": "3.6.10"
  }
 },
 "nbformat": 4,
 "nbformat_minor": 4
}
